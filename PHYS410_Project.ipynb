{
 "cells": [
  {
   "cell_type": "markdown",
   "metadata": {},
   "source": [
    "# PHYS 410. Project 1\n",
    "## Anuar Yeraliyev, 47382130"
   ]
  },
  {
   "cell_type": "code",
   "execution_count": 108,
   "metadata": {
    "collapsed": true
   },
   "outputs": [],
   "source": [
    "%matplotlib inline"
   ]
  },
  {
   "cell_type": "code",
   "execution_count": 109,
   "metadata": {
    "collapsed": false
   },
   "outputs": [],
   "source": [
    "import numpy as np\n",
    "import matplotlib.pyplot as plt\n",
    "import sympy as sp\n",
    "import mpmath as mp"
   ]
  },
  {
   "cell_type": "markdown",
   "metadata": {},
   "source": [
    "## Exercise 2.16\n",
    "In the first exercise we have to compute the energy levels for a single finite square well using the propagator method. First we define the matrices of $P_{allowed}$ as well as $P_{forbidden}$ for the distance between the wells for the next exercise. The $\\Psi$ was propagated from point b (where $\\Psi(b) = 1$) up to the end of the well. An assumption of $\\Psi(b)$ yields $\\Psi'(b) = \\beta$.\n",
    " \n",
    "$$P_{allowed} = \\begin{bmatrix}\n",
    "    cos(\\alpha * c)       & (1/\\alpha) * sin(\\alpha * c)  \\\\\n",
    "    (-\\alpha) * sin(\\alpha * c)       & cos(\\alpha * c)  \\\\\n",
    "    \\end{bmatrix}$$\n",
    "    \n",
    "$$ \\begin{bmatrix} \n",
    "    \\Psi(c) \\\\\n",
    "    \\Psi'(c) \\\\\n",
    "    \\end{bmatrix}\n",
    "    = \\begin{bmatrix}\n",
    "    cos(\\alpha * c)       & (1/\\alpha) * sin(\\alpha * c)  \\\\\n",
    "    (-\\alpha) * sin(\\alpha * c)       & cos(\\alpha * c)  \\\\\n",
    "    \\end{bmatrix}\n",
    "    \\begin{bmatrix}\n",
    "    \\Psi(b) \\\\\n",
    "    \\Psi'(b) \\\\\n",
    "    \\end{bmatrix}\n",
    "    $$\n",
    "    \n",
    "By rearranging $\\Psi(c)$ and $\\Psi'(c)$ (equating them to zero) we obtain analytic solutions:\n",
    "\n",
    "$$ \\beta * cos(\\alpha * c) = \\alpha * sin(\\alpha * c)$$\n",
    "$$ \\alpha * cos(\\alpha * c) = -\\beta * sin(\\alpha * c) $$\n",
    "\n",
    "Since $\\Psi'(b) = \\beta$ because $\\Psi(b) = 1$, we obtain a function of energy whose roots we need to find, $f(E) = \\Psi' + \\beta * \\Psi = 0$.\n",
    "\n",
    "The propagator method concludes that one can use $f(E) = \\Psi' + \\beta * \\Psi = 0$ which we can equal to zero and subsequently find the roots (which are energy states). Newton's method has been used to estimate the roots.\n",
    "\n",
    "All the equations are converted into matrix form and computed using symbolic computation."
   ]
  },
  {
   "cell_type": "code",
   "execution_count": 138,
   "metadata": {
    "collapsed": false
   },
   "outputs": [],
   "source": [
    "w = 0.6\n",
    "hbar2 = 0.076199682     # in units of eV*m_e*nm^2\n",
    "m = 1\n",
    "V0 = 10                 # eV\n",
    "\n",
    "E = sp.Symbol('E')\n",
    "w = sp.Symbol('w')\n",
    "s = sp.Symbol('s')\n",
    "alpha = sp.sqrt(2 * m * E / hbar2)\n",
    "beta = sp.sqrt(2 * m * (V0 - E) / hbar2)\n",
    "P_allowed = sp.Matrix([[sp.cos(alpha * w), ((1/alpha) * sp.sin(alpha * w))],\n",
    "                       [(-alpha) * sp.sin(alpha * w), sp.cos(alpha * w)]])\n",
    "P_forbidden = sp.Matrix([[sp.cosh(beta * s), (1 / beta) * sp.sinh(beta * s)],\n",
    "                         [beta * sp.sinh(beta * s), sp.cosh(beta * s)]])\n",
    "Psi_b = sp.Matrix([[1], [beta]])"
   ]
  },
  {
   "cell_type": "code",
   "execution_count": 134,
   "metadata": {
    "collapsed": true
   },
   "outputs": [],
   "source": [
    "def E_init_guesses(f, E0):\n",
    "    arr = np.nan_to_num(np.array([f.subs(E, k).evalf() for k in E0]))\n",
    "    find_even = np.abs(np.diff(np.sign(arr))) / 2\n",
    "    inds = np.where(find_even == 1)[0]\n",
    "    return inds"
   ]
  },
  {
   "cell_type": "code",
   "execution_count": 135,
   "metadata": {
    "collapsed": true
   },
   "outputs": [],
   "source": [
    "def newton(f, E, E_init):\n",
    "    E0 = mp.linspace(0.0000001, V0-0.0000001, 10)\n",
    "    iters = 1\n",
    "    max_iters = 100\n",
    "    accuracy = 1\n",
    "    tolerance = 1e-8\n",
    "    change = 1\n",
    "    \n",
    "    root0 = E_init\n",
    "    while accuracy > tolerance and iters < max_iters:\n",
    "        root1 = root0 - (f.subs(E, root0) / f.diff(E).subs(E, root0)).evalf()\n",
    "        accuracy = np.abs(f.subs(E, root1).evalf())\n",
    "        change = np.abs(root1 - root0)\n",
    "        iters = iters + 1\n",
    "        root0 = root1 \n",
    "    return root1"
   ]
  },
  {
   "cell_type": "code",
   "execution_count": 140,
   "metadata": {
    "collapsed": false
   },
   "outputs": [
    {
     "name": "stdout",
     "output_type": "stream",
     "text": [
      "Root found:  0.715452497485611 eV\n",
      "Root found:  2.8213918646452 eV\n",
      "Root found:  6.14864413575714 eV\n",
      "Root found:  9.86720374515409 eV\n"
     ]
    }
   ],
   "source": [
    "[Psi, Psi_prime] = P_allowed.subs(w, 0.6) * Psi_b\n",
    "E0 = mp.linspace(0.0000001, V0-0.0000001, 1000)\n",
    "for i in E_init_guesses(Psi_prime + beta * Psi, E0):\n",
    "    print \"Root found: \", newton(Psi_prime + beta * Psi, E, E0[i]), \"eV\""
   ]
  },
  {
   "cell_type": "markdown",
   "metadata": {},
   "source": [
    "Both numeric and analytic solutions obtained from the propagator match the ones using the alternative previous method."
   ]
  },
  {
   "cell_type": "markdown",
   "metadata": {},
   "source": [
    "## Exercise 2.18\n",
    "\n",
    "Using the exact functions from above we can compute the roots of a system with 2 wells where there is a separation between them.\n",
    "\n",
    "In order to do that we need to propagate the wavefunction and its derivative further, i.e. multiply them by $P_{forbidden}$ and $P_{allowed}$ in a particular order such that $\\Psi$ propagates from the point b.\n",
    "\n",
    "$$ P_{forbidden} = \\begin{bmatrix}\n",
    "    cosh(\\beta * s)       & (1/\\beta) * sinh(\\beta * s)  \\\\\n",
    "    (-\\beta) * sinh(\\beta * s)       & cosh(\\beta * s)  \\\\\n",
    "    \\end{bmatrix}$$\n",
    "    "
   ]
  },
  {
   "cell_type": "code",
   "execution_count": 136,
   "metadata": {
    "collapsed": false,
    "scrolled": true
   },
   "outputs": [
    {
     "name": "stdout",
     "output_type": "stream",
     "text": [
      "Root found:  0.704880345198814 eV\n",
      "Root found:  0.725492335333294 eV\n",
      "Root found:  2.77014630620866 eV\n",
      "Root found:  2.87176000810464 eV\n",
      "Root found:  6.00081761710459 eV\n",
      "Root found:  6.31813039819537 eV\n",
      "Root found:  9.77595591117981 eV\n"
     ]
    }
   ],
   "source": [
    "[Psi, Psi_prime] = P_allowed.subs(w, 0.6) * P_forbidden.subs(s, 0.2) * P_allowed.subs(w, 0.6) * Psi_b\n",
    "E0 = mp.linspace(0.0000001, V0-0.0000001, 1000)\n",
    "for i in E_init_guesses(Psi_prime + beta * Psi, E0):\n",
    "    print \"Root found: \", newton(Psi_prime + beta * Psi, E, E0[i]), \"eV\""
   ]
  },
  {
   "cell_type": "code",
   "execution_count": 143,
   "metadata": {
    "collapsed": false,
    "scrolled": true
   },
   "outputs": [
    {
     "name": "stdout",
     "output_type": "stream",
     "text": [
      "Separation =  1.0e-7\n",
      "Separation =  0.0315790421052632\n",
      "Separation =  0.0631579842105263\n",
      "Separation =  0.0947369263157895\n",
      "Separation =  0.126315868421053\n",
      "Separation =  0.157894810526316\n",
      "Separation =  0.189473752631579\n",
      "Separation =  0.221052694736842\n",
      "Separation =  0.252631636842105\n",
      "Separation =  0.284210578947368\n",
      "Separation =  0.315789521052632\n",
      "Separation =  0.347368463157895\n",
      "Separation =  0.378947405263158\n",
      "Separation =  0.410526347368421\n",
      "Separation =  0.442105289473684\n",
      "Separation =  0.473684231578947\n",
      "Separation =  0.50526317368421\n",
      "Separation =  0.536842115789474\n",
      "Separation =  0.568421057894737\n",
      "Separation =  0.6\n",
      "[mpf('-0.64183230974510441'), mpf('-0.32178023332538724'), mpf('-0.18220109762064451'), mpf('-0.10823846637845003'), mpf('-0.065449958670730779'), mpf('-0.039832410892064574'), mpf('-0.024298289678335694'), mpf('-0.014834719177212241'), mpf('-0.0090597032433120672'), mpf('-0.0055334454195152816'), mpf('-0.0033798244058252935'), mpf('-0.0020644229129883618'), mpf('-0.0012609717575713386'), mpf('-0.0007702164990173177'), mpf('-0.00047045766417952439'), mpf('-0.00028736136581453131'), mpf('-0.00017552393901998364'), mpf('-0.00010721217747999834'), mpf('-6.5486532706326983e-5'), mpf('-4.0000005244400505e-5')]\n"
     ]
    }
   ],
   "source": [
    "# Plotting E1 - E2 vs s\n",
    "sss = mp.linspace(0.0000001, 0.6, 20)\n",
    "E0 = mp.linspace(0.2, 0.9, 2000)\n",
    "E1_E2 = []\n",
    "E1 = []\n",
    "E2 = []\n",
    "for ss in sss:\n",
    "    roots = []\n",
    "    print \"Separation = \", ss\n",
    "    [Psi, Psi_prime] = P_allowed.subs(w, 0.6) * P_forbidden.subs(s, ss) * P_allowed.subs(w, 0.6) * Psi_b\n",
    "    for i in E_init_guesses(Psi_prime + beta * Psi, E0):\n",
    "        root = newton(Psi_prime + beta * Psi, E, E0[i])\n",
    "        #print root\n",
    "        roots.append(root)\n",
    "    E1_E2.append(roots[0] - roots[1])\n",
    "    E1.append(roots[0])\n",
    "    E2.append(roots[1])\n",
    "print E1_E2"
   ]
  },
  {
   "cell_type": "code",
   "execution_count": 144,
   "metadata": {
    "collapsed": false
   },
   "outputs": [
    {
     "data": {
      "text/plain": [
       "<matplotlib.text.Text at 0x11812c190>"
      ]
     },
     "execution_count": 144,
     "metadata": {},
     "output_type": "execute_result"
    },
    {
     "data": {
      "image/png": "[encoded data removed]",
      "text/plain": [
       "<matplotlib.figure.Figure at 0x1181d58d0>"
      ]
     },
     "metadata": {},
     "output_type": "display_data"
    }
   ],
   "source": [
    "plt.plot(sss, np.abs(E1_E2))\n",
    "plt.ylabel('E2 - E1 (eV)')\n",
    "plt.xlabel('Separation distance s (nm)')\n",
    "plt.title('Two square finite wells')"
   ]
  },
  {
   "cell_type": "code",
   "execution_count": 145,
   "metadata": {
    "collapsed": false
   },
   "outputs": [
    {
     "data": {
      "text/plain": [
       "<matplotlib.text.Text at 0x11824da50>"
      ]
     },
     "execution_count": 145,
     "metadata": {},
     "output_type": "execute_result"
    },
    {
     "data": {
      "image/png": "[encoded data removed]",
      "text/plain": [
       "<matplotlib.figure.Figure at 0x1166bda50>"
      ]
     },
     "metadata": {},
     "output_type": "display_data"
    }
   ],
   "source": [
    "plt.plot(sss,E1, label='lowest energy')\n",
    "plt.plot(sss, E2, label='2nd lowest energy')\n",
    "plt.legend()\n",
    "plt.ylabel('Energy (eV)')\n",
    "plt.xlabel('Separation distance s (nm)')\n",
    "plt.title('Two square finite wells')"
   ]
  },
  {
   "cell_type": "markdown",
   "metadata": {},
   "source": [
    "The absolute difference between lowest two energy states decreases as $s$ increases and eventually converges to zero. This signifies that as separation distance becomes large two square wells start acting as two separate systems, i.e. the wavefunctions don't \"interact\"."
   ]
  },
  {
   "cell_type": "markdown",
   "metadata": {},
   "source": [
    "## Exercise 2.19\n",
    "In order to compute $\\Psi$ for $n$ number of wells, one needs to additionally multiple $P_{allowed}$ and $P_{forbidden}$ $n$ times. After that the same method of root finding can be used."
   ]
  },
  {
   "cell_type": "code",
   "execution_count": 149,
   "metadata": {
    "collapsed": false,
    "scrolled": true
   },
   "outputs": [
    {
     "name": "stdout",
     "output_type": "stream",
     "text": [
      "Root:  0.698434530914906\n",
      "Root:  0.708634888794261\n",
      "Root:  0.72137063123649\n",
      "Root:  0.73177303646184\n",
      "Root:  2.73930873401674\n",
      "Root:  2.78858901377641\n",
      "Root:  2.8513165063842\n",
      "Root:  2.90371671149577\n",
      "Root:  5.91440099869869\n",
      "Root:  6.05933433756398\n",
      "Root:  6.25486060740288\n",
      "Root:  6.4316270889241\n",
      "Root:  9.70406674765614\n",
      "Root:  9.9208960519323\n"
     ]
    }
   ],
   "source": [
    "n = 4\n",
    "Psi = P_allowed.subs(w, 0.6) * Psi_b\n",
    "for i in range(1, n):\n",
    "    Psi = P_allowed.subs(w, 0.6) * P_forbidden.subs(s, 0.2) * Psi\n",
    "    \n",
    "[Psi, Psi_prime] = Psi\n",
    "# As one computes for bigger n, we need to check for more values of E0\n",
    "# because some energies might have small basin of attraction\n",
    "E0 = mp.linspace(0.0000001, V0-0.0000001, 5000)\n",
    "roots_n = []\n",
    "for i in E_init_guesses(Psi_prime + beta * Psi, E0):\n",
    "    root = newton(Psi_prime + beta * Psi, E, E0[i])\n",
    "    print \"Root: \", root, \"eV\"\n",
    "    roots_n.append(root)"
   ]
  },
  {
   "cell_type": "code",
   "execution_count": 150,
   "metadata": {
    "collapsed": false
   },
   "outputs": [
    {
     "data": {
      "text/plain": [
       "<matplotlib.text.Text at 0x1178aa210>"
      ]
     },
     "execution_count": 150,
     "metadata": {},
     "output_type": "execute_result"
    },
    {
     "data": {
      "image/png": "[encoded data removed]",
      "text/plain": [
       "<matplotlib.figure.Figure at 0x1104c7490>"
      ]
     },
     "metadata": {},
     "output_type": "display_data"
    }
   ],
   "source": [
    "plt.plot(roots_n, 'o')\n",
    "plt.xlabel('Energy state')\n",
    "plt.ylabel('Energy (eV)')\n",
    "plt.title('Four wells')"
   ]
  },
  {
   "cell_type": "code",
   "execution_count": 151,
   "metadata": {
    "collapsed": false
   },
   "outputs": [
    {
     "name": "stdout",
     "output_type": "stream",
     "text": [
      "Root:  0.696088439364343 eV\n",
      "Root:  0.700450060781354 eV\n",
      "Root:  0.707028889103954 eV\n",
      "Root:  0.714868819913563 eV\n",
      "Root:  0.722795873264153 eV\n",
      "Root:  0.729584942117232 eV\n",
      "Root:  0.73415667327472 eV\n",
      "Root:  2.72810341723182 eV\n",
      "Root:  2.7490651790024 eV\n",
      "Root:  2.78090977529938 eV\n",
      "Root:  2.81926190763751 eV\n",
      "Root:  2.85855153582526 eV\n",
      "Root:  2.89266671358631 eV\n",
      "Root:  2.91590940351947 eV\n",
      "Root:  5.88265607236997 eV\n",
      "Root:  5.94390271483634 eV\n",
      "Root:  6.03859417894608 eV\n",
      "Root:  6.15591436354453 eV\n",
      "Root:  6.28090954512163 eV\n",
      "Root:  6.39460404135221 eV\n",
      "Root:  6.47556882217206 eV\n",
      "Root:  9.66852305303787 eV\n",
      "Root:  9.7722915822679 eV\n",
      "Root:  9.9411315305328 eV\n"
     ]
    }
   ],
   "source": [
    "n = 7\n",
    "Psi = P_allowed.subs(w, 0.6) * Psi_b\n",
    "for i in range(1, n):\n",
    "    Psi = P_allowed.subs(w, 0.6) * P_forbidden.subs(s, 0.2) * Psi\n",
    "    \n",
    "[Psi, Psi_prime] = Psi\n",
    "# As one computes for bigger n, we need to check for more values of E0\n",
    "# because some energies might have small basin of attraction\n",
    "E0 = mp.linspace(0.0000001, V0-0.0000001, 5000)\n",
    "roots_n = []\n",
    "for i in E_init_guesses(Psi_prime + beta * Psi, E0):\n",
    "    root = newton(Psi_prime + beta * Psi, E, E0[i])\n",
    "    print \"Root: \", root, \"eV\"\n",
    "    roots_n.append(root)"
   ]
  },
  {
   "cell_type": "code",
   "execution_count": 152,
   "metadata": {
    "collapsed": false
   },
   "outputs": [
    {
     "data": {
      "text/plain": [
       "<matplotlib.text.Text at 0x1177e1710>"
      ]
     },
     "execution_count": 152,
     "metadata": {},
     "output_type": "execute_result"
    },
    {
     "data": {
      "image/png": "[encoded data removed]",
      "text/plain": [
       "<matplotlib.figure.Figure at 0x1177564d0>"
      ]
     },
     "metadata": {},
     "output_type": "display_data"
    }
   ],
   "source": [
    "plt.plot(roots_n, 'o')\n",
    "plt.xlabel('Energy state')\n",
    "plt.ylabel('Energy (eV)')\n",
    "plt.title('Seven wells')"
   ]
  },
  {
   "cell_type": "markdown",
   "metadata": {},
   "source": [
    "There is an evident band structure within the energy states. The energy states are grouped by n-states in each band. For example, there are 7 states in each band in 7-well system. There are sharp and large jumps in energy between the bands."
   ]
  }
 ],
 "metadata": {
  "kernelspec": {
   "display_name": "Python 2",
   "language": "python",
   "name": "python2"
  },
  "language_info": {
   "codemirror_mode": {
    "name": "ipython",
    "version": 2
   },
   "file_extension": ".py",
   "mimetype": "text/x-python",
   "name": "python",
   "nbconvert_exporter": "python",
   "pygments_lexer": "ipython2",
   "version": "2.7.11"
  }
 },
 "nbformat": 4,
 "nbformat_minor": 0
}
